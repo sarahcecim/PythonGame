{
  "nbformat": 4,
  "nbformat_minor": 0,
  "metadata": {
    "colab": {
      "provenance": [],
      "authorship_tag": "ABX9TyMuXkAEBFjNNmTfxZ5GX/+r",
      "include_colab_link": true
    },
    "kernelspec": {
      "name": "python3",
      "display_name": "Python 3"
    },
    "language_info": {
      "name": "python"
    }
  },
  "cells": [
    {
      "cell_type": "markdown",
      "metadata": {
        "id": "view-in-github",
        "colab_type": "text"
      },
      "source": [
        "<a href=\"https://colab.research.google.com/github/sarahcecim/PythonGame/blob/main/python_game.ipynb\" target=\"_parent\"><img src=\"https://colab.research.google.com/assets/colab-badge.svg\" alt=\"Open In Colab\"/></a>"
      ]
    },
    {
      "cell_type": "code",
      "execution_count": 1,
      "metadata": {
        "colab": {
          "base_uri": "https://localhost:8080/"
        },
        "id": "J7V9lxu8RDFi",
        "outputId": "c8c80427-0361-4bed-946c-0b6543ba5fab"
      },
      "outputs": [
        {
          "output_type": "stream",
          "name": "stdout",
          "text": [
            "Dica: desenvolver projetos eletrônicos interativos e automatizados.\n",
            "1. css\n",
            "2. arduino\n",
            "3. linux\n",
            "4. realidade aumentada\n",
            "5. pytorch\n",
            "Qual é a tecnologia? (1-5): 2\n",
            "Parabéns, você acertou!\n"
          ]
        }
      ],
      "source": [
        "import random\n",
        "import requests\n",
        "\n",
        "def jogo_tecnologias():\n",
        "  \"\"\"\n",
        "  Jogo que sorteia uma tecnologia e dá ao usuário 5 opções para adivinhar,\n",
        "  obtendo os dados de um arquivo JSON no GitHub.\n",
        "  \"\"\"\n",
        "  # URL do arquivo JSON no GitHub\n",
        "  url = \"https://raw.githubusercontent.com/xereda/game-python/main/tech-wrods.json\"\n",
        "\n",
        "  # Obtém o JSON da URL\n",
        "  response = requests.get(url)\n",
        "  data = response.json()\n",
        "\n",
        "  # Sorteia uma tecnologia\n",
        "  tecnologia_sorteada = random.choice(data)\n",
        "  palavra_certa = tecnologia_sorteada[\"palavra\"]\n",
        "  dica = tecnologia_sorteada[\"dica\"]\n",
        "\n",
        "  # Cria opções de escolha, incluindo a correta\n",
        "  opcoes = [palavra_certa]\n",
        "  while len(opcoes) < 5:\n",
        "    opcao = random.choice(data)[\"palavra\"]\n",
        "    if opcao not in opcoes:\n",
        "      opcoes.append(opcao)\n",
        "  random.shuffle(opcoes)\n",
        "\n",
        "  # Mostra a dica e as opções ao usuário\n",
        "  print(\"Dica:\", dica)\n",
        "  for i, opcao in enumerate(opcoes):\n",
        "    print(f\"{i+1}. {opcao}\")\n",
        "\n",
        "  # Obtém a resposta do usuário\n",
        "  resposta = input(\"Qual é a tecnologia? (1-5): \")\n",
        "\n",
        "  # Verifica a resposta\n",
        "  if opcoes[int(resposta)-1] == palavra_certa:\n",
        "    print(\"Parabéns, você acertou!\")\n",
        "  else:\n",
        "    print(f\"Resposta errada. A tecnologia correta era: {palavra_certa}\")\n",
        "\n",
        "# Inicia o jogo\n",
        "jogo_tecnologias()"
      ]
    }
  ]
}